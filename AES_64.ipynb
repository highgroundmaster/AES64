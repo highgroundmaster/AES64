{
 "cells": [
  {
   "cell_type": "code",
   "execution_count": 1,
   "metadata": {},
   "outputs": [],
   "source": [
    "import numpy as np\n",
    "import random"
   ]
  },
  {
   "cell_type": "markdown",
   "metadata": {},
   "source": [
    "# Galois Field Arithmetic"
   ]
  },
  {
   "cell_type": "markdown",
   "metadata": {},
   "source": [
    "## Custom Functions"
   ]
  },
  {
   "cell_type": "code",
   "execution_count": 2,
   "metadata": {},
   "outputs": [],
   "source": [
    "def ntp(num,field):\n",
    "    '''\n",
    "    Converts Number to Polynomial in the given Galois Field.\n",
    "    '''\n",
    "    return field.fetch_int(num)\n",
    "\n",
    "    \n",
    "def ptn(poly,field):\n",
    "    '''\n",
    "    Converts Polynomial in the given Galois Field to a Number\n",
    "    '''\n",
    "    #Gives the Polynomial Coefficients in Vector Form\n",
    "    V = field.vector_space(map=False)\n",
    "    \n",
    "    #Instantiating given polynomial in Vector Form\n",
    "    v = V(poly)\n",
    "    \n",
    "    #Convert the vector into a Bit string and convert to integer\n",
    "    num = ''.join(map(str,v))[::-1]\n",
    "    return int(num, 2)"
   ]
  },
  {
   "cell_type": "markdown",
   "metadata": {},
   "source": [
    "## AES-128"
   ]
  },
  {
   "cell_type": "code",
   "execution_count": 3,
   "metadata": {},
   "outputs": [
    {
     "name": "stdout",
     "output_type": "stream",
     "text": [
      "Finite Field in x of size 2^8\n",
      "\n",
      "<class 'sage.rings.finite_rings.finite_field_givaro.FiniteField_givaro_with_category'>\n",
      "\n",
      "Univariate Polynomial Ring in b over Finite Field in z8 of size 2^8\n",
      "\n",
      "<class 'sage.rings.polynomial.polynomial_ring.PolynomialRing_dense_finite_field_with_category'>\n",
      "\n",
      "b^8 + b^4 + b^3 + b + 1\n"
     ]
    }
   ],
   "source": [
    "# Instantiate Polynomial Ring in Galois Field\n",
    "P.<b> = PolynomialRing(GF(2^8))\n",
    "\n",
    "#Rijndael Irreducible Polynomial\n",
    "R_p = b^8 + b^4 + b^3 + b + 1\n",
    "\n",
    "#Instantiate the Galois Field with Rijndael Irreducible Polynomial as Modulus\n",
    "aes_128.<x> = GF(2^8, modulus=R_p)\n",
    "\n",
    "print(aes_128, type(aes_128), P, type(P), R_p, sep = '\\n\\n')"
   ]
  },
  {
   "cell_type": "code",
   "execution_count": 4,
   "metadata": {},
   "outputs": [
    {
     "data": {
      "text/plain": [
       "<class 'sage.rings.finite_rings.element_givaro.FiniteField_givaroElement'>"
      ]
     },
     "execution_count": 4,
     "metadata": {},
     "output_type": "execute_result"
    }
   ],
   "source": [
    "# Creating to Galois Field Polynomials using Hexadecimal Notation\n",
    "c_x = aes_128(ntp(0x02,aes_128))\n",
    "d_x = aes_128(ntp(0xa3,aes_128))\n",
    "type(c_x)"
   ]
  },
  {
   "cell_type": "markdown",
   "metadata": {},
   "source": [
    "### Addition\n",
    "- $c(X) = X = \\texttt{02}$\n",
    "- $d(X) = X^7 + X^5 + X+1= \\texttt{a3}$\n",
    "\n",
    "$$\\begin{split}\n",
    "\\texttt{02} + \\texttt{a3} &=X + (X^7 + X^5 + X+1)\\\\\n",
    "&= X^7 + X^5 + 1 \\\\\n",
    "&= \\texttt{a1}\n",
    "\\end{split}$$"
   ]
  },
  {
   "cell_type": "code",
   "execution_count": 5,
   "metadata": {},
   "outputs": [
    {
     "name": "stdout",
     "output_type": "stream",
     "text": [
      "x^7 + x^5 + 1\n"
     ]
    }
   ],
   "source": [
    "#Addition in Galois Field\n",
    "print(c_x + d_x) "
   ]
  },
  {
   "cell_type": "markdown",
   "metadata": {},
   "source": [
    "### Modular using Irreducible Polynomial"
   ]
  },
  {
   "cell_type": "code",
   "execution_count": 6,
   "metadata": {},
   "outputs": [
    {
     "data": {
      "text/plain": [
       "b^8 + b^4 + b^3 + b + 1"
      ]
     },
     "execution_count": 6,
     "metadata": {},
     "output_type": "execute_result"
    }
   ],
   "source": [
    "R_p"
   ]
  },
  {
   "cell_type": "markdown",
   "metadata": {},
   "source": [
    "### Multiplication    \n",
    "- $c(X) = X = \\texttt{02}$\n",
    "- $d(X) = X^7 + X^5 + X+1= \\texttt{a3}$\n",
    "\n",
    "$$\\begin{split}\n",
    "\\texttt{02} \\times \\texttt{a3} &=X\\times (X^7 + X^5 + X+1)\\\\\n",
    "&= X^8 + X^6 + X^2+X \\\\\n",
    "&= (R_p \\times X^{8-8}) + X^8 + X^6 + X^2+X\\\\\n",
    "&= (X^8 + X^4 + X^3 + X + 1) + (X^8 + X^6 + X^2+X)\\\\\n",
    "&= X^6 + X^4 + X^3 + X^2 + 1\\\\\n",
    "&= \\texttt{5d}\n",
    "\\end{split}$$"
   ]
  },
  {
   "cell_type": "code",
   "execution_count": 7,
   "metadata": {},
   "outputs": [
    {
     "data": {
      "text/plain": [
       "x^6 + x^4 + x^3 + x^2 + 1"
      ]
     },
     "execution_count": 7,
     "metadata": {},
     "output_type": "execute_result"
    }
   ],
   "source": [
    "#Direct Multiplication\n",
    "prod = c_x * d_x\n",
    "prod"
   ]
  },
  {
   "cell_type": "code",
   "execution_count": 8,
   "metadata": {},
   "outputs": [
    {
     "data": {
      "text/plain": [
       "x^6 + x^4 + x^3 + x^2 + 1"
      ]
     },
     "execution_count": 8,
     "metadata": {},
     "output_type": "execute_result"
    }
   ],
   "source": [
    "# Another Method\n",
    "prod.mod(aes_128.modulus())"
   ]
  },
  {
   "cell_type": "markdown",
   "metadata": {},
   "source": [
    "### Lookup Table for Multiplication"
   ]
  },
  {
   "cell_type": "code",
   "execution_count": 9,
   "metadata": {},
   "outputs": [],
   "source": [
    "def prod_table(field):\n",
    "    '''\n",
    "    Returns the Lookup Table for all the Multiplication in the given Galois Field\n",
    "    '''\n",
    "    n = field.order()\n",
    "    \n",
    "    #Initializing Table to Zero\n",
    "    # Using * Operator twice would just created same referenced list causing issues\n",
    "    prod_tbl = [[0]*n for i in range(n)]\n",
    "    \n",
    "    #Get all the numbers possible in the Field\n",
    "    elements = []\n",
    "    for i in range(n):\n",
    "        elements.append(i)\n",
    "        \n",
    "    #Convert numbers to polynomials, galois field product and convert back to number\n",
    "    for elem_1 in elements:\n",
    "        for elem_2 in elements:\n",
    "            prod_tbl[elem_1][elem_2] = ptn(ntp(elem_1,field)*ntp(elem_2,field), field)\n",
    "            \n",
    "    return prod_tbl"
   ]
  },
  {
   "cell_type": "code",
   "execution_count": 10,
   "metadata": {},
   "outputs": [],
   "source": [
    "AES_128 = np.matrix(prod_table(aes_128))"
   ]
  },
  {
   "cell_type": "code",
   "execution_count": 11,
   "metadata": {},
   "outputs": [
    {
     "name": "stdout",
     "output_type": "stream",
     "text": [
      "[[  0   0   0 ...   0   0   0]\n",
      " [  0   1   2 ... 253 254 255]\n",
      " [  0   2   4 ... 225 231 229]\n",
      " ...\n",
      " [  0 253 225 ...  23  11 246]\n",
      " [  0 254 231 ...  11  18 236]\n",
      " [  0 255 229 ... 246 236  19]]\n"
     ]
    }
   ],
   "source": [
    "print(AES_128)"
   ]
  },
  {
   "cell_type": "code",
   "execution_count": 12,
   "metadata": {},
   "outputs": [],
   "source": [
    "with open('Txt_Files/AES_128_prod.txt','wb') as f:\n",
    "    for row in AES_128:\n",
    "        np.savetxt(f, row, fmt='%#02x',delimiter=', ')"
   ]
  },
  {
   "cell_type": "markdown",
   "metadata": {},
   "source": [
    "# AES-64"
   ]
  },
  {
   "cell_type": "code",
   "execution_count": 13,
   "metadata": {},
   "outputs": [
    {
     "name": "stdout",
     "output_type": "stream",
     "text": [
      "Finite Field in y of size 2^4\n",
      "\n",
      "<class 'sage.rings.finite_rings.finite_field_givaro.FiniteField_givaro_with_category'>\n",
      "\n",
      "Univariate Polynomial Ring in a over Finite Field in z4 of size 2^4\n",
      "\n",
      "<class 'sage.rings.polynomial.polynomial_ring.PolynomialRing_dense_finite_field_with_category'>\n"
     ]
    }
   ],
   "source": [
    "# Instantiate Polynomial Ring in Galois Field\n",
    "R.<a> = PolynomialRing(GF(2^4))\n",
    "\n",
    "#AES-64 Irreducible Polynomial\n",
    "R_p = a^4 + a + 1\n",
    "\n",
    "#Instantiate the Galois Field with AES-64 Irreducible Polynomial as Modulus\n",
    "aes_64.<y> = GF(2^4, modulus=R_p)\n",
    "print(aes_64, type(aes_64), R, type(R), sep = '\\n\\n')"
   ]
  },
  {
   "cell_type": "code",
   "execution_count": 14,
   "metadata": {},
   "outputs": [],
   "source": [
    "AES_64 = np.matrix(prod_table(aes_64))"
   ]
  },
  {
   "cell_type": "code",
   "execution_count": 15,
   "metadata": {},
   "outputs": [],
   "source": [
    "with open('Txt_Files/AES_64_prod.txt','wb') as f:\n",
    "    for row in AES_64:\n",
    "        np.savetxt(f, row, fmt='%#01x',delimiter=', ')"
   ]
  },
  {
   "cell_type": "markdown",
   "metadata": {},
   "source": [
    "## Mix Columns"
   ]
  },
  {
   "cell_type": "code",
   "execution_count": 16,
   "metadata": {},
   "outputs": [],
   "source": [
    "def mix_col(field):\n",
    "    '''\n",
    "    Returns a Lookup Table containing Products of Elements of Galois Field with - 1,2,3\n",
    "    '''\n",
    "    n = field.order()\n",
    "    \n",
    "    #Initializing Table to Zero\n",
    "    # Using * Operator twice would just created same referenced list causing issues\n",
    "    prod_tbl = [[0]*n for i in range(3)]\n",
    "    \n",
    "    elements = [i for i in range(n)]\n",
    "    \n",
    "    #Multiply Mix Column Elements with all possible elements of field\n",
    "    mix_elems = [1,2,3]\n",
    "    for elem_1 in range(len(mix_elems)):\n",
    "        for elem_2 in elements:\n",
    "            prod_tbl[elem_1][elem_2] = ptn(ntp(mix_elems[elem_1],field)*ntp(elem_2,field),field)\n",
    "            \n",
    "    return prod_tbl\n",
    "\n",
    "\n",
    "def inv_mix_col(field):\n",
    "    '''\n",
    "    Returns a Lookup Table containing Products of Elements of Galois Field with - 9, 11, 13, 14\n",
    "    '''\n",
    "    n = field.order()\n",
    "    \n",
    "    #Initializing Table to Zero\n",
    "    # Using * Operator twice would just created same referenced list causing issues\n",
    "    prod_tbl = [[0]*n for i in range(4)]\n",
    "    \n",
    "    elements = [i for i in range(n)]\n",
    "    \n",
    "    #Multiply Inverse Column Elements with all possible elements of field\n",
    "    inv_mix_elems = [9,11,13,14]\n",
    "    for elem_1 in range(len(inv_mix_elems)):\n",
    "        for elem_2 in elements:\n",
    "            prod_tbl[elem_1][elem_2] = ptn(ntp(inv_mix_elems[elem_1],field)*ntp(elem_2,field),field)\n",
    "            \n",
    "    return prod_tbl"
   ]
  },
  {
   "cell_type": "code",
   "execution_count": 17,
   "metadata": {},
   "outputs": [],
   "source": [
    "#Storing in Text Files\n",
    "AES_64_mix = np.matrix(mix_col(aes_64))\n",
    "AES_64_inv_mix = np.matrix(inv_mix_col(aes_64))\n",
    "\n",
    "AES_128_mix = np.matrix(mix_col(aes_128))\n",
    "AES_128_inv_mix = np.matrix(inv_mix_col(aes_128))\n",
    "\n",
    "with open('Txt_Files/AES_64_mix.txt','wb') as f:\n",
    "    for row in AES_64_mix:\n",
    "        np.savetxt(f, row, fmt='%#01x',delimiter=', ')\n",
    "\n",
    "with open('Txt_Files/AES_64_inv_mix.txt','wb') as f:\n",
    "    for row in AES_64_inv_mix:\n",
    "        np.savetxt(f, row, fmt='%#01x',delimiter=', ')\n",
    "\n",
    "with open('Txt_Files/AES_128_mix.txt','wb') as f:\n",
    "    for row in AES_128_mix:\n",
    "        np.savetxt(f, row, fmt='%#02x',delimiter=', ')\n",
    "\n",
    "with open('Txt_Files/AES_128_inv_mix.txt','wb') as f:\n",
    "    for row in AES_128_inv_mix:\n",
    "        np.savetxt(f, row, fmt='%#02x',delimiter=', ')"
   ]
  },
  {
   "cell_type": "markdown",
   "metadata": {},
   "source": [
    "## Round Constants"
   ]
  },
  {
   "cell_type": "code",
   "execution_count": 18,
   "metadata": {},
   "outputs": [],
   "source": [
    "def r_cons(rounds,field):\n",
    "    '''\n",
    "    Returns all the Round Constant vectors for <rounds> number of rounds\n",
    "    '''\n",
    "    r_con_poly = [0]*rounds\n",
    "    r_con_poly[0] = ntp(0x01,field)\n",
    "    multiplier = ntp(0x02,field)\n",
    "    for i in range(1,rounds):\n",
    "         r_con_poly[i] = r_con_poly[i-1]*multiplier\n",
    "    r_con = [[ptn(poly,field),0,0,0] for poly in r_con_poly]\n",
    "    return r_con"
   ]
  },
  {
   "cell_type": "code",
   "execution_count": 19,
   "metadata": {},
   "outputs": [],
   "source": [
    "#10 Round Round Constants for AES-64 and AES-128\n",
    "AES_128_r_con_vec = np.matrix(r_cons(10,aes_128))\n",
    "AES_64_r_con_vec = np.matrix(r_cons(10,aes_64))\n",
    "\n",
    "\n",
    "#Storing in Text Files\n",
    "with open('Txt_Files/AES_64_rcon.txt','wb') as f:\n",
    "    for row in AES_64_r_con_vec:\n",
    "        np.savetxt(f, row, fmt='%#01x',delimiter=', ')\n",
    "\n",
    "with open('Txt_Files/AES_128_rcon.txt','wb') as f:\n",
    "    for row in AES_128_r_con_vec:\n",
    "        np.savetxt(f, row, fmt='%#02x',delimiter=', ')"
   ]
  },
  {
   "cell_type": "markdown",
   "metadata": {},
   "source": [
    "# MD5 Collisions"
   ]
  },
  {
   "cell_type": "code",
   "execution_count": 20,
   "metadata": {},
   "outputs": [],
   "source": [
    "import hashlib\n",
    "\n",
    "#Make a List out of 10000 most used words in English\n",
    "with open('Txt_Files/words.txt','rt') as f:\n",
    "    words = [word[:-1] for word in f]\n",
    "\n",
    "hashes = {}\n",
    "\n",
    "\n",
    "def find_collisions(num_words, num_collisions):\n",
    "    '''\n",
    "    Find num_collisions amount of Single Collisions for a sentence of num_word words\n",
    "    '''\n",
    "    collisions = 0\n",
    "    trial = 0\n",
    "    while(collisions < num_collisions):\n",
    "        #Building a sentence of num_word number of words\n",
    "        sentence = \" \".join(random.sample(words, num_words))\n",
    "        #MD5 Hash of the sentence\n",
    "        complete_hash = hashlib.md5(sentence.encode()).hexdigest()\n",
    "        partial_hash = complete_hash[:4] + complete_hash[-4:]\n",
    "        \n",
    "        trial+=1\n",
    "        \n",
    "        if partial_hash not in hashes.keys():\n",
    "            hashes[partial_hash] = sentence\n",
    "        \n",
    "        #Found Collision\n",
    "        elif sentence != hashes[partial_hash]:\n",
    "            collisions+=1\n",
    "            print(f'Collision {collisions} after {trial} trials - for Partial Hash - {partial_hash}')\n",
    "            print(f'{complete_hash} - {sentence}')\n",
    "            print(f'{hashlib.md5(hashes[partial_hash].encode()).hexdigest()} - {hashes[partial_hash]}\\n')\n",
    "            trial = 0"
   ]
  },
  {
   "cell_type": "code",
   "execution_count": 21,
   "metadata": {
    "scrolled": false
   },
   "outputs": [
    {
     "name": "stdout",
     "output_type": "stream",
     "text": [
      "Collision 1 after 104733 trials - for Partial Hash - 23e47f58\n",
      "23e480a481c1e5f196460b767c017f58 - avon opportunity drinks products\n",
      "23e4ef498b714e98c575c208a4427f58 - mw surf whats amanda\n",
      "\n",
      "Collision 2 after 24069 trials - for Partial Hash - 17b51bee\n",
      "17b5c1569659194467f292b0e5dd1bee - either needs receptors valve\n",
      "17b549cb7b35d93fb1ce408e5af91bee - hans bristol fairfield cheaper\n",
      "\n",
      "Collision 3 after 45404 trials - for Partial Hash - 7ecd4043\n",
      "7ecdfaddd2a4cd6a53ae73050e844043 - deadly restricted steal hist\n",
      "7ecd2df2763167c360ed18e9c23a4043 - measurements thumbs promote personal\n",
      "\n",
      "Collision 4 after 1456 trials - for Partial Hash - 2e67511d\n",
      "2e67a0cd31a4d7bdb54aed293b39511d - kay mug graduates albert\n",
      "2e6760085aba1daae34d787249f2511d - floral steady hardcover hypothesis\n",
      "\n"
     ]
    }
   ],
   "source": [
    "find_collisions(4, 4)"
   ]
  },
  {
   "cell_type": "markdown",
   "metadata": {},
   "source": [
    "# Understanding Cryptography - 11.8"
   ]
  },
  {
   "cell_type": "code",
   "execution_count": 22,
   "metadata": {},
   "outputs": [],
   "source": [
    "def xor_hash(string):\n",
    "    # Each character in 8 Bit Binary Format\n",
    "    binary_format = [format(ord(char), '08b') for char in string]\n",
    "    \n",
    "    #XOR of each bit in every Byte\n",
    "    x_hash = \"\".join([str(byte.count('1')%2) for byte in binary_format])\n",
    "    \n",
    "    return x_hash\n",
    "\n",
    "def break_xor_hash(x_hash, num_preimage):\n",
    "    '''\n",
    "    Returns a dictionary containing num_preimage number of second preimages for the given Hash\n",
    "    '''\n",
    "    #Maximum 36 Preimages are possible from the words we chose.\n",
    "    if(num_preimage > 36):\n",
    "        raise ValueError(f\"Cannot find {num_preimage} number of second preimages. Max limit is 36.\\n\")\n",
    "    \n",
    "    #Make a List of words with same length as given hash from the 10000 most used words in English\n",
    "    with open('Txt_Files/words.txt','rt') as f:\n",
    "        words = [word[:-1].upper() for word in f if len(word)==(len(x_hash)+1)]\n",
    "    \n",
    "    count = 0\n",
    "    second_preimages = {}\n",
    "    #Find num_preimages number of second preimages\n",
    "    while(count < num_preimage):\n",
    "        word = random.choice(words)\n",
    "        \n",
    "        if xor_hash(word) == x_hash and word not in second_preimages.keys() :\n",
    "            second_preimages[word] = xor_hash(word)\n",
    "            count+=1\n",
    "            \n",
    "    return second_preimages"
   ]
  },
  {
   "cell_type": "code",
   "execution_count": 23,
   "metadata": {},
   "outputs": [
    {
     "data": {
      "text/plain": [
       "'110011'"
      ]
     },
     "execution_count": 23,
     "metadata": {},
     "output_type": "execute_result"
    }
   ],
   "source": [
    "xor_hash(\"CRYPTO\")"
   ]
  },
  {
   "cell_type": "code",
   "execution_count": 24,
   "metadata": {},
   "outputs": [
    {
     "name": "stdout",
     "output_type": "stream",
     "text": [
      "A B C D E F G H I J K L M N O P Q R S T U V W X Y Z \n",
      "0 0 1 0 1 1 0 0 1 1 0 1 0 0 1 0 1 1 0 1 0 0 1 1 0 0 "
     ]
    }
   ],
   "source": [
    "for char in range(65,91):\n",
    "    print(f\"{chr(char)}\", end = \" \")\n",
    "    \n",
    "print()\n",
    "\n",
    "for char in range(65,91):\n",
    "    print(f\"{xor_hash(chr(char))}\", end = \" \")"
   ]
  },
  {
   "cell_type": "code",
   "execution_count": 25,
   "metadata": {},
   "outputs": [
    {
     "name": "stdout",
     "output_type": "stream",
     "text": [
      "LEADER - 110011\n",
      "WINNER - 110011\n",
      "TRADER - 110011\n",
      "ROBBIE - 110011\n",
      "COUPLE - 110011\n",
      "ETHNIC - 110011\n",
      "TEMPLE - 110011\n",
      "REPAIR - 110011\n",
      "TENDER - 110011\n",
      "WONDER - 110011\n",
      "TRANCE - 110011\n",
      "FRASER - 110011\n",
      "LESSER - 110011\n",
      "FEMALE - 110011\n",
      "COPPER - 110011\n",
      "RENDER - 110011\n",
      "TOMATO - 110011\n",
      "LENDER - 110011\n",
      "LIABLE - 110011\n",
      "READER - 110011\n",
      "FINGER - 110011\n",
      "LONGER - 110011\n",
      "FISHER - 110011\n",
      "CRADLE - 110011\n",
      "COMMIT - 110011\n",
      "FLAVOR - 110011\n",
      "TIMBER - 110011\n",
      "FOSSIL - 110011\n",
      "WINDOW - 110011\n",
      "REDUCE - 110011\n",
      "FRANCE - 110011\n",
      "FINDER - 110011\n",
      "TRAVEL - 110011\n",
      "RESULT - 110011\n",
      "FIGURE - 110011\n",
      "REBATE - 110011\n"
     ]
    }
   ],
   "source": [
    "crypto_hash = xor_hash(\"CRYPTO\")\n",
    "\n",
    "#Find second preimages for CRYPTO word\n",
    "second_preimages = break_xor_hash(crypto_hash, 36)\n",
    "\n",
    "for word, word_hash in second_preimages.items():\n",
    "    print(f\"{word} - {word_hash}\")"
   ]
  }
 ],
 "metadata": {
  "kernelspec": {
   "display_name": "SageMath 9.4",
   "language": "sage",
   "name": "sagemath"
  },
  "language_info": {
   "codemirror_mode": {
    "name": "ipython",
    "version": 3
   },
   "file_extension": ".py",
   "mimetype": "text/x-python",
   "name": "python",
   "nbconvert_exporter": "python",
   "pygments_lexer": "ipython3",
   "version": "3.9.5"
  }
 },
 "nbformat": 4,
 "nbformat_minor": 4
}
